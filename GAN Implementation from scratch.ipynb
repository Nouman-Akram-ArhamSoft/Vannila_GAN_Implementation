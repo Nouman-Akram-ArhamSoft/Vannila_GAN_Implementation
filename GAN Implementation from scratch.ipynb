{
 "cells": [
  {
   "cell_type": "code",
   "execution_count": 6,
   "metadata": {},
   "outputs": [
    {
     "name": "stdout",
     "output_type": "stream",
     "text": [
      "Requirement already satisfied: ipywidgets in /home/nouman/miniconda3/lib/python3.10/site-packages (8.0.6)\n",
      "Requirement already satisfied: ipykernel>=4.5.1 in /home/nouman/miniconda3/lib/python3.10/site-packages (from ipywidgets) (6.23.2)\n",
      "Requirement already satisfied: ipython>=6.1.0 in /home/nouman/miniconda3/lib/python3.10/site-packages (from ipywidgets) (8.14.0)\n",
      "Requirement already satisfied: traitlets>=4.3.1 in /home/nouman/miniconda3/lib/python3.10/site-packages (from ipywidgets) (5.9.0)\n",
      "Requirement already satisfied: widgetsnbextension~=4.0.7 in /home/nouman/miniconda3/lib/python3.10/site-packages (from ipywidgets) (4.0.7)\n",
      "Requirement already satisfied: jupyterlab-widgets~=3.0.7 in /home/nouman/miniconda3/lib/python3.10/site-packages (from ipywidgets) (3.0.7)\n",
      "Requirement already satisfied: comm>=0.1.1 in /home/nouman/miniconda3/lib/python3.10/site-packages (from ipykernel>=4.5.1->ipywidgets) (0.1.3)\n",
      "Requirement already satisfied: debugpy>=1.6.5 in /home/nouman/miniconda3/lib/python3.10/site-packages (from ipykernel>=4.5.1->ipywidgets) (1.6.7)\n",
      "Requirement already satisfied: jupyter-client>=6.1.12 in /home/nouman/miniconda3/lib/python3.10/site-packages (from ipykernel>=4.5.1->ipywidgets) (8.2.0)\n",
      "Requirement already satisfied: jupyter-core!=5.0.*,>=4.12 in /home/nouman/miniconda3/lib/python3.10/site-packages (from ipykernel>=4.5.1->ipywidgets) (5.3.1)\n",
      "Requirement already satisfied: matplotlib-inline>=0.1 in /home/nouman/miniconda3/lib/python3.10/site-packages (from ipykernel>=4.5.1->ipywidgets) (0.1.6)\n",
      "Requirement already satisfied: nest-asyncio in /home/nouman/miniconda3/lib/python3.10/site-packages (from ipykernel>=4.5.1->ipywidgets) (1.5.6)\n",
      "Requirement already satisfied: packaging in /home/nouman/miniconda3/lib/python3.10/site-packages (from ipykernel>=4.5.1->ipywidgets) (23.1)\n",
      "Requirement already satisfied: psutil in /home/nouman/miniconda3/lib/python3.10/site-packages (from ipykernel>=4.5.1->ipywidgets) (5.9.5)\n",
      "Requirement already satisfied: pyzmq>=20 in /home/nouman/miniconda3/lib/python3.10/site-packages (from ipykernel>=4.5.1->ipywidgets) (25.1.0)\n",
      "Requirement already satisfied: tornado>=6.1 in /home/nouman/miniconda3/lib/python3.10/site-packages (from ipykernel>=4.5.1->ipywidgets) (6.3.2)\n",
      "Requirement already satisfied: backcall in /home/nouman/miniconda3/lib/python3.10/site-packages (from ipython>=6.1.0->ipywidgets) (0.2.0)\n",
      "Requirement already satisfied: decorator in /home/nouman/miniconda3/lib/python3.10/site-packages (from ipython>=6.1.0->ipywidgets) (5.1.1)\n",
      "Requirement already satisfied: jedi>=0.16 in /home/nouman/miniconda3/lib/python3.10/site-packages (from ipython>=6.1.0->ipywidgets) (0.18.2)\n",
      "Requirement already satisfied: pickleshare in /home/nouman/miniconda3/lib/python3.10/site-packages (from ipython>=6.1.0->ipywidgets) (0.7.5)\n",
      "Requirement already satisfied: prompt-toolkit!=3.0.37,<3.1.0,>=3.0.30 in /home/nouman/miniconda3/lib/python3.10/site-packages (from ipython>=6.1.0->ipywidgets) (3.0.38)\n",
      "Requirement already satisfied: pygments>=2.4.0 in /home/nouman/miniconda3/lib/python3.10/site-packages (from ipython>=6.1.0->ipywidgets) (2.15.1)\n",
      "Requirement already satisfied: stack-data in /home/nouman/miniconda3/lib/python3.10/site-packages (from ipython>=6.1.0->ipywidgets) (0.6.2)\n",
      "Requirement already satisfied: pexpect>4.3 in /home/nouman/miniconda3/lib/python3.10/site-packages (from ipython>=6.1.0->ipywidgets) (4.8.0)\n",
      "Requirement already satisfied: parso<0.9.0,>=0.8.0 in /home/nouman/miniconda3/lib/python3.10/site-packages (from jedi>=0.16->ipython>=6.1.0->ipywidgets) (0.8.3)\n",
      "Requirement already satisfied: python-dateutil>=2.8.2 in /home/nouman/miniconda3/lib/python3.10/site-packages (from jupyter-client>=6.1.12->ipykernel>=4.5.1->ipywidgets) (2.8.2)\n",
      "Requirement already satisfied: platformdirs>=2.5 in /home/nouman/miniconda3/lib/python3.10/site-packages (from jupyter-core!=5.0.*,>=4.12->ipykernel>=4.5.1->ipywidgets) (3.6.0)\n",
      "Requirement already satisfied: ptyprocess>=0.5 in /home/nouman/miniconda3/lib/python3.10/site-packages (from pexpect>4.3->ipython>=6.1.0->ipywidgets) (0.7.0)\n",
      "Requirement already satisfied: wcwidth in /home/nouman/miniconda3/lib/python3.10/site-packages (from prompt-toolkit!=3.0.37,<3.1.0,>=3.0.30->ipython>=6.1.0->ipywidgets) (0.2.6)\n",
      "Requirement already satisfied: executing>=1.2.0 in /home/nouman/miniconda3/lib/python3.10/site-packages (from stack-data->ipython>=6.1.0->ipywidgets) (1.2.0)\n",
      "Requirement already satisfied: asttokens>=2.1.0 in /home/nouman/miniconda3/lib/python3.10/site-packages (from stack-data->ipython>=6.1.0->ipywidgets) (2.2.1)\n",
      "Requirement already satisfied: pure-eval in /home/nouman/miniconda3/lib/python3.10/site-packages (from stack-data->ipython>=6.1.0->ipywidgets) (0.2.2)\n",
      "Requirement already satisfied: six in /home/nouman/miniconda3/lib/python3.10/site-packages (from asttokens>=2.1.0->stack-data->ipython>=6.1.0->ipywidgets) (1.16.0)\n"
     ]
    }
   ],
   "source": [
    "!pip install ipywidgets"
   ]
  },
  {
   "cell_type": "code",
   "execution_count": 98,
   "metadata": {
    "id": "IHd1YvHlyH9X"
   },
   "outputs": [],
   "source": [
    "import torch\n",
    "from torch import nn\n",
    "\n",
    "import math\n",
    "import matplotlib.pyplot as plt"
   ]
  },
  {
   "cell_type": "code",
   "execution_count": 99,
   "metadata": {
    "colab": {
     "base_uri": "https://localhost:8080/"
    },
    "id": "V_qcQGykyIwz",
    "outputId": "782bd018-db7d-476a-b395-50ee8476bb1b"
   },
   "outputs": [
    {
     "data": {
      "text/plain": [
       "<torch._C.Generator at 0x7f51e412f3f0>"
      ]
     },
     "execution_count": 99,
     "metadata": {},
     "output_type": "execute_result"
    }
   ],
   "source": [
    "torch.manual_seed(111)"
   ]
  },
  {
   "cell_type": "code",
   "execution_count": 100,
   "metadata": {
    "id": "oucfbF3fyOmk"
   },
   "outputs": [],
   "source": [
    "train_data_length = 1024\n",
    "# create the 2d area of zeros\n",
    "train_data = torch.zeros((train_data_length, 2))\n",
    "# updating the first column to make the shape\n",
    "train_data[:, 0] = 2 * math.pi * torch.rand(train_data_length)\n",
    "# update the second column\n",
    "train_data[:, 1] = torch.sin(train_data[:, 0])\n",
    "# add label to data\n",
    "train_labels = torch.zeros(train_data_length)\n",
    "# Merge the train data and labels\n",
    "train_set = [\n",
    "    (train_data[i], train_labels[i]) for i in range(train_data_length)\n",
    "]"
   ]
  },
  {
   "cell_type": "code",
   "execution_count": 101,
   "metadata": {
    "colab": {
     "base_uri": "https://localhost:8080/"
    },
    "id": "sHhXtAaGHcBM",
    "outputId": "3562937e-2d89-4c52-ffe8-01fec51bce68"
   },
   "outputs": [
    {
     "data": {
      "text/plain": [
       "tensor([0., 0., 0.,  ..., 0., 0., 0.])"
      ]
     },
     "execution_count": 101,
     "metadata": {},
     "output_type": "execute_result"
    }
   ],
   "source": [
    "train_labels"
   ]
  },
  {
   "cell_type": "code",
   "execution_count": 102,
   "metadata": {
    "colab": {
     "base_uri": "https://localhost:8080/"
    },
    "id": "kk-Lq7vAHeoe",
    "outputId": "340f0167-4271-4761-d511-1008a8edc2c2"
   },
   "outputs": [
    {
     "data": {
      "text/plain": [
       "tensor([[ 4.4960, -0.9767],\n",
       "        [ 5.7428, -0.5145],\n",
       "        [ 1.7710,  0.9800],\n",
       "        ...,\n",
       "        [ 4.4772, -0.9725],\n",
       "        [ 3.2305, -0.0887],\n",
       "        [ 4.0663, -0.7984]])"
      ]
     },
     "execution_count": 102,
     "metadata": {},
     "output_type": "execute_result"
    }
   ],
   "source": [
    "train_data"
   ]
  },
  {
   "cell_type": "code",
   "execution_count": 103,
   "metadata": {
    "id": "LylhMxzsG8kO"
   },
   "outputs": [],
   "source": [
    "train_set = [\n",
    "    (train_data[i], train_labels[i]) for i in range(train_data_length)\n",
    "]"
   ]
  },
  {
   "cell_type": "code",
   "execution_count": 104,
   "metadata": {
    "colab": {
     "base_uri": "https://localhost:8080/"
    },
    "id": "balKRFIlHmHd",
    "outputId": "61eee75c-9194-4db7-c9ad-049f37434a04"
   },
   "outputs": [
    {
     "data": {
      "text/plain": [
       "[(tensor([ 5.7428, -0.5145]), tensor(0.)),\n",
       " (tensor([1.7710, 0.9800]), tensor(0.)),\n",
       " (tensor([1.6217, 0.9987]), tensor(0.)),\n",
       " (tensor([ 3.9654, -0.7337]), tensor(0.)),\n",
       " (tensor([ 3.7702, -0.5881]), tensor(0.)),\n",
       " (tensor([ 5.8509, -0.4190]), tensor(0.)),\n",
       " (tensor([1.3527, 0.9763]), tensor(0.)),\n",
       " (tensor([ 3.7905, -0.6043]), tensor(0.)),\n",
       " (tensor([ 4.6042, -0.9942]), tensor(0.))]"
      ]
     },
     "execution_count": 104,
     "metadata": {},
     "output_type": "execute_result"
    }
   ],
   "source": [
    "train_set[1:10]"
   ]
  },
  {
   "cell_type": "code",
   "execution_count": 105,
   "metadata": {
    "colab": {
     "base_uri": "https://localhost:8080/",
     "height": 282
    },
    "id": "HSycTtIFyROk",
    "outputId": "7d684c55-8040-4aac-aa95-c43e8e14849e"
   },
   "outputs": [
    {
     "data": {
      "text/plain": [
       "[<matplotlib.lines.Line2D at 0x7f5133dc8640>]"
      ]
     },
     "execution_count": 105,
     "metadata": {},
     "output_type": "execute_result"
    },
    {
     "data": {
      "image/png": "[encoded data removed]",
      "text/plain": [
       "<Figure size 432x288 with 1 Axes>"
      ]
     },
     "metadata": {
      "needs_background": "light"
     },
     "output_type": "display_data"
    }
   ],
   "source": [
    "plt.plot(train_data[:, 0], train_data[:, 1], \".\")"
   ]
  },
  {
   "cell_type": "code",
   "execution_count": 106,
   "metadata": {
    "id": "RVaBClmJyTv3"
   },
   "outputs": [],
   "source": [
    "batch_size = 32\n",
    "train_loader = torch.utils.data.DataLoader(\n",
    "    train_set, batch_size=batch_size, shuffle=True\n",
    ")"
   ]
  },
  {
   "cell_type": "code",
   "execution_count": 39,
   "metadata": {
    "colab": {
     "base_uri": "https://localhost:8080/"
    },
    "id": "uPUCS2kQNFCI",
    "outputId": "12357e18-700f-4456-e724-dbc951757a6b"
   },
   "outputs": [
    {
     "data": {
      "text/plain": [
       "<torch.utils.data.dataloader.DataLoader at 0x7f51cc63f9d0>"
      ]
     },
     "execution_count": 39,
     "metadata": {},
     "output_type": "execute_result"
    }
   ],
   "source": [
    "train_loader"
   ]
  },
  {
   "cell_type": "code",
   "execution_count": 40,
   "metadata": {
    "id": "0i6cNECFzSYi"
   },
   "outputs": [],
   "source": [
    "class Discriminator(nn.Module):\n",
    "    def __init__(self):\n",
    "        super().__init__()\n",
    "        self.model = nn.Sequential(\n",
    "            nn.Linear(2, 556),\n",
    "            nn.ReLU(),\n",
    "            nn.Dropout(0.3),\n",
    "            nn.Linear(556, 128),\n",
    "            nn.ReLU(),\n",
    "            nn.Dropout(0.3),\n",
    "            nn.Linear(128, 128),\n",
    "            nn.ReLU(),\n",
    "            nn.Dropout(0.3),\n",
    "            nn.Linear(128, 64),\n",
    "            nn.ReLU(),\n",
    "            nn.Dropout(0.3),\n",
    "            \n",
    "            nn.Linear(64, 1),\n",
    "            nn.Sigmoid(),\n",
    "        )\n",
    "\n",
    "    def forward(self, x):\n",
    "        output = self.model(x)\n",
    "        return output"
   ]
  },
  {
   "cell_type": "code",
   "execution_count": 41,
   "metadata": {
    "id": "VetvHlFazvky"
   },
   "outputs": [],
   "source": [
    "discriminator = Discriminator()"
   ]
  },
  {
   "cell_type": "code",
   "execution_count": 42,
   "metadata": {
    "id": "vvU0U4yTz7hl"
   },
   "outputs": [],
   "source": [
    "class Generator(nn.Module):\n",
    "    def __init__(self):\n",
    "        super().__init__()\n",
    "        self.model = nn.Sequential(\n",
    "            nn.Linear(2, 16),\n",
    "            nn.ReLU(),\n",
    "            nn.Linear(16, 32),\n",
    "            nn.ReLU(),\n",
    "            nn.Linear(32, 2),\n",
    "        )\n",
    "\n",
    "    def forward(self, x):\n",
    "        output = self.model(x)\n",
    "        return output\n",
    "\n",
    "generator = Generator()"
   ]
  },
  {
   "cell_type": "code",
   "execution_count": 43,
   "metadata": {
    "id": "Oef3DD_J0AaC"
   },
   "outputs": [],
   "source": [
    "lr = 0.001\n",
    "num_epochs = 300\n",
    "loss_function = nn.BCELoss()"
   ]
  },
  {
   "cell_type": "code",
   "execution_count": 44,
   "metadata": {
    "id": "OFlk0qjr0CsZ"
   },
   "outputs": [],
   "source": [
    "optimizer_discriminator = torch.optim.Adam(discriminator.parameters(), lr=lr)\n",
    "optimizer_generator = torch.optim.Adam(generator.parameters(), lr=lr)"
   ]
  },
  {
   "cell_type": "code",
   "execution_count": 95,
   "metadata": {},
   "outputs": [],
   "source": [
    "disciminated_samples = []"
   ]
  },
  {
   "cell_type": "code",
   "execution_count": 96,
   "metadata": {
    "colab": {
     "base_uri": "https://localhost:8080/"
    },
    "id": "uRtjSGPJ0FRG",
    "outputId": "15e6e798-4369-484f-c9cb-36589646cd3d"
   },
   "outputs": [
    {
     "name": "stdout",
     "output_type": "stream",
     "text": [
      "Epoch: 0 Loss D.: 0.6817678809165955\n",
      "Epoch: 0 Loss G.: 0.7590656876564026\n",
      "Epoch: 10 Loss D.: 0.7126155495643616\n",
      "Epoch: 10 Loss G.: 0.7482556700706482\n",
      "Epoch: 20 Loss D.: 0.694441020488739\n",
      "Epoch: 20 Loss G.: 0.7263242602348328\n",
      "Epoch: 30 Loss D.: 0.6352444887161255\n",
      "Epoch: 30 Loss G.: 0.6726095676422119\n",
      "Epoch: 40 Loss D.: 0.7847800850868225\n",
      "Epoch: 40 Loss G.: 0.6755409240722656\n",
      "Epoch: 50 Loss D.: 0.6648397445678711\n",
      "Epoch: 50 Loss G.: 0.8024115562438965\n",
      "Epoch: 60 Loss D.: 0.6671595573425293\n",
      "Epoch: 60 Loss G.: 0.7411771416664124\n",
      "Epoch: 70 Loss D.: 0.6817998290061951\n",
      "Epoch: 70 Loss G.: 0.7288526296615601\n",
      "Epoch: 80 Loss D.: 0.6686842441558838\n",
      "Epoch: 80 Loss G.: 0.6711235046386719\n",
      "Epoch: 90 Loss D.: 0.6301401257514954\n",
      "Epoch: 90 Loss G.: 0.7676410675048828\n",
      "Epoch: 100 Loss D.: 0.6237840056419373\n",
      "Epoch: 100 Loss G.: 1.0856808423995972\n",
      "Epoch: 110 Loss D.: 0.5493649840354919\n",
      "Epoch: 110 Loss G.: 0.9708641767501831\n",
      "Epoch: 120 Loss D.: 0.6791068911552429\n",
      "Epoch: 120 Loss G.: 0.6940236687660217\n",
      "Epoch: 130 Loss D.: 0.6941630840301514\n",
      "Epoch: 130 Loss G.: 0.7146013379096985\n",
      "Epoch: 140 Loss D.: 0.6951184868812561\n",
      "Epoch: 140 Loss G.: 0.6896780133247375\n",
      "Epoch: 150 Loss D.: 0.700797975063324\n",
      "Epoch: 150 Loss G.: 0.7532154321670532\n",
      "Epoch: 160 Loss D.: 0.6962435245513916\n",
      "Epoch: 160 Loss G.: 0.7084083557128906\n",
      "Epoch: 170 Loss D.: 0.6810693740844727\n",
      "Epoch: 170 Loss G.: 1.1139960289001465\n",
      "Epoch: 180 Loss D.: 0.6795700192451477\n",
      "Epoch: 180 Loss G.: 1.0289758443832397\n",
      "Epoch: 190 Loss D.: 0.633909285068512\n",
      "Epoch: 190 Loss G.: 0.9182690382003784\n",
      "Epoch: 200 Loss D.: 0.703472375869751\n",
      "Epoch: 200 Loss G.: 0.7189775705337524\n",
      "Epoch: 210 Loss D.: 0.6968501210212708\n",
      "Epoch: 210 Loss G.: 0.7272629141807556\n",
      "Epoch: 220 Loss D.: 0.6233873963356018\n",
      "Epoch: 220 Loss G.: 1.3949944972991943\n",
      "Epoch: 230 Loss D.: 0.7736530900001526\n",
      "Epoch: 230 Loss G.: 0.694905161857605\n",
      "Epoch: 240 Loss D.: 0.7060458064079285\n",
      "Epoch: 240 Loss G.: 0.8204300403594971\n",
      "Epoch: 250 Loss D.: 0.6948117017745972\n",
      "Epoch: 250 Loss G.: 0.6937730312347412\n",
      "Epoch: 260 Loss D.: 0.7607197761535645\n",
      "Epoch: 260 Loss G.: 0.7667292952537537\n",
      "Epoch: 270 Loss D.: 0.6963325142860413\n",
      "Epoch: 270 Loss G.: 0.7172567844390869\n",
      "Epoch: 280 Loss D.: 0.6887582540512085\n",
      "Epoch: 280 Loss G.: 0.654023289680481\n",
      "Epoch: 290 Loss D.: 0.5614901185035706\n",
      "Epoch: 290 Loss G.: 0.9749285578727722\n"
     ]
    }
   ],
   "source": [
    "for epoch in range(num_epochs):\n",
    "    for n, (real_samples, _) in enumerate(train_loader):\n",
    "        # Data for training the discriminator\n",
    "        real_samples_labels = torch.ones((batch_size, 1))\n",
    "        latent_space_samples = torch.randn((batch_size, 2))\n",
    "        generated_samples = generator(latent_space_samples)\n",
    "        generated_samples_labels = torch.zeros((batch_size, 1))\n",
    "        all_samples = torch.cat((real_samples, generated_samples))\n",
    "        all_samples_labels = torch.cat(\n",
    "            (real_samples_labels, generated_samples_labels)\n",
    "        )\n",
    "        disciminated_samples.append(all_samples)\n",
    "\n",
    "        # Training the discriminator\n",
    "        discriminator.zero_grad()\n",
    "        output_discriminator = discriminator(all_samples)\n",
    "        loss_discriminator = loss_function(\n",
    "            output_discriminator, all_samples_labels)\n",
    "        loss_discriminator.backward()\n",
    "        optimizer_discriminator.step()\n",
    "\n",
    "        # Data for training the generator\n",
    "        latent_space_samples = torch.randn((batch_size, 2))\n",
    "\n",
    "        # Training the generator\n",
    "        generator.zero_grad()\n",
    "        generated_samples = generator(latent_space_samples)\n",
    "        output_discriminator_generated = discriminator(generated_samples)\n",
    "        loss_generator = loss_function(\n",
    "            output_discriminator_generated, real_samples_labels\n",
    "        )\n",
    "        loss_generator.backward()\n",
    "        optimizer_generator.step()\n",
    "\n",
    "        # Show loss\n",
    "        if epoch % 10 == 0 and n == batch_size - 1:\n",
    "            print(f\"Epoch: {epoch} Loss D.: {loss_discriminator}\")\n",
    "            print(f\"Epoch: {epoch} Loss G.: {loss_generator}\")"
   ]
  },
  {
   "cell_type": "code",
   "execution_count": 107,
   "metadata": {},
   "outputs": [],
   "source": [
    "# disciminated_samples"
   ]
  },
  {
   "cell_type": "code",
   "execution_count": 110,
   "metadata": {
    "id": "ItF2KbIE0Q4R"
   },
   "outputs": [],
   "source": [
    "latent_space_samples = torch.randn(50, 2)\n",
    "generated_samples = generator(latent_space_samples)"
   ]
  },
  {
   "cell_type": "code",
   "execution_count": 111,
   "metadata": {
    "colab": {
     "base_uri": "https://localhost:8080/",
     "height": 282
    },
    "id": "kJTLHUuT0W0I",
    "outputId": "04508829-9d97-482f-a723-b9068cd7548d"
   },
   "outputs": [
    {
     "data": {
      "text/plain": [
       "[<matplotlib.lines.Line2D at 0x7f5133d4fb20>]"
      ]
     },
     "execution_count": 111,
     "metadata": {},
     "output_type": "execute_result"
    },
    {
     "data": {
      "image/png": "[encoded data removed]",
      "text/plain": [
       "<Figure size 432x288 with 1 Axes>"
      ]
     },
     "metadata": {
      "needs_background": "light"
     },
     "output_type": "display_data"
    }
   ],
   "source": [
    "generated_samples = generated_samples.detach()\n",
    "plt.plot(generated_samples[:, 0], generated_samples[:, 1], \".\")"
   ]
  },
  {
   "cell_type": "code",
   "execution_count": 48,
   "metadata": {
    "colab": {
     "base_uri": "https://localhost:8080/",
     "height": 282
    },
    "id": "41DySsjFUTs9",
    "outputId": "57c5a07e-d7b8-47cc-f0ca-e14562816e0a"
   },
   "outputs": [
    {
     "data": {
      "text/plain": [
       "[<matplotlib.lines.Line2D at 0x7f51cc47ce80>]"
      ]
     },
     "execution_count": 48,
     "metadata": {},
     "output_type": "execute_result"
    },
    {
     "data": {
      "image/png": "[encoded data removed]",
      "text/plain": [
       "<Figure size 432x288 with 1 Axes>"
      ]
     },
     "metadata": {
      "needs_background": "light"
     },
     "output_type": "display_data"
    }
   ],
   "source": [
    "plt.plot(train_data[:, 0], train_data[:, 1], \".\")"
   ]
  },
  {
   "cell_type": "code",
   "execution_count": null,
   "metadata": {
    "id": "AEVKD5DY0x-7"
   },
   "outputs": [],
   "source": []
  },
  {
   "cell_type": "code",
   "execution_count": null,
   "metadata": {},
   "outputs": [],
   "source": []
  }
 ],
 "metadata": {
  "colab": {
   "name": "Create your own gan .ipynb",
   "provenance": []
  },
  "kernelspec": {
   "display_name": "Python 3 (ipykernel)",
   "language": "python",
   "name": "python3"
  },
  "language_info": {
   "codemirror_mode": {
    "name": "ipython",
    "version": 3
   },
   "file_extension": ".py",
   "mimetype": "text/x-python",
   "name": "python",
   "nbconvert_exporter": "python",
   "pygments_lexer": "ipython3",
   "version": "3.8.10"
  }
 },
 "nbformat": 4,
 "nbformat_minor": 4
}
